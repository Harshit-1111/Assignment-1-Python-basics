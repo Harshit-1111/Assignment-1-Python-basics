{
 "cells": [
  {
   "cell_type": "code",
   "execution_count": null,
   "id": "3cbed659",
   "metadata": {},
   "outputs": [],
   "source": [
    "#Q-1 In the below elements which of them are values or an expression?\n",
    "\n",
    "*        - Mathematical Operator - (Expression)\n",
    "hello    - String - (Values)\n",
    "-87.8    - Float - (Values)\n",
    "-        - Mathematical Operator - (Expression)\n",
    "/        - Mathematical Operator - (Expression)\n",
    "+        - Mathematical Operator - (Expression)\n",
    "6        - Integer - (Values)"
   ]
  },
  {
   "cell_type": "code",
   "execution_count": null,
   "id": "c5b45f51",
   "metadata": {},
   "outputs": [],
   "source": [
    "#Q2- What is the difference between string and variable?\n",
    "\n",
    "Ans-                         #Variable\n",
    "\n",
    "      It is a local or Global instances where we try to store the data. For example :\n",
    "                                x=10\n",
    "      Here we can say that x is a variable and it stores a value 10.\n",
    "      To know the type of the variable we use type().\n",
    "      And to note- Variable name cannot start with an integer\n",
    "        \n",
    "                             #String\n",
    "            \n",
    "      Anything you assign to a variable using quotes (single or double) will be considered as a string. For Example :\n",
    "                 a = \"Hello ineuron\"\n",
    "      Also to not that \"STRINGS ARE IMMUTABLE\"\n",
    "      And Strings objects does not support item assignments"
   ]
  },
  {
   "cell_type": "code",
   "execution_count": null,
   "id": "178f04e6",
   "metadata": {},
   "outputs": [],
   "source": [
    "#Q3 Describe three different data types.\n",
    "\n",
    "Ans #INTEGERS\n",
    "\n",
    "    Integers is one of the Numeric Data-types present in python.\n",
    "    It contains Positive or Negative Whole Numbers along with 0.\n",
    "    We represent integer by \"int\"\n",
    "    Integer value can be as long as we want. \n",
    "    For example- a=10\n",
    "                 b=20\n",
    "    #BOOLEAN\n",
    "    \n",
    "    Boolean is a data type with on of the two Built in values ie TRUE or FALSE\n",
    "    This is denoted by bool class\n",
    "    True and Flase with capital T and F are booleans \n",
    "    Example- print(type(True))\n",
    "             print(type(False))\n",
    "        Here the output will be bool class\n",
    "    \n",
    "    #SET\n",
    "    \n",
    "    SET is a collection which will always try to hold a distinct element.\n",
    "    Set is case sensitive\n",
    "    The order of elements in a set is undefined though it may consist of various elements.\n",
    "    Set items cannot be accessed by referring to an index, since sets are unordered,the items has no index.\n",
    "    For example-  l=[1,1,2,3,4,4,5,5,6]\n",
    "                  set(l)\n",
    "        Output will be {1, 2, 3, 4, 5, 6]\n",
    "    \n",
    "              "
   ]
  },
  {
   "cell_type": "code",
   "execution_count": null,
   "id": "3ca035f6",
   "metadata": {},
   "outputs": [],
   "source": [
    "#Q4 What is an expression made up of? What do all expressions do?\n",
    "\n",
    "Ans- An expression is a combination of operators and operands that is interpreted to produce some other value.\n",
    "     if there is more than one operator in an expression, their precedence decides which operation will be performed first.\n",
    "\n",
    "    "
   ]
  },
  {
   "cell_type": "code",
   "execution_count": null,
   "id": "b22861e8",
   "metadata": {},
   "outputs": [],
   "source": [
    "#Q5 What is the difference between an expression and a statement?\n",
    "\n",
    "Ans An expression is something that can be reduced to a value, for example \"5+4\" is an expression, but \"hi = 5+4\" is not.\n",
    "    Statements represent an action or command\n",
    "    for e.g print statements"
   ]
  },
  {
   "cell_type": "code",
   "execution_count": 16,
   "id": "125e640c",
   "metadata": {},
   "outputs": [
    {
     "data": {
      "text/plain": [
       "23"
      ]
     },
     "execution_count": 16,
     "metadata": {},
     "output_type": "execute_result"
    }
   ],
   "source": [
    "#Q6 After running the following code, what does the variable bacon contain?\n",
    "    # bacon = 22\n",
    "     # bacon + 1\n",
    "bacon = 22\n",
    "bacon + 1"
   ]
  },
  {
   "cell_type": "code",
   "execution_count": 17,
   "id": "a6581586",
   "metadata": {},
   "outputs": [
    {
     "data": {
      "text/plain": [
       "'spamspamspam'"
      ]
     },
     "execution_count": 17,
     "metadata": {},
     "output_type": "execute_result"
    }
   ],
   "source": [
    "#Q7 What should the values of the following two terms be?\n",
    "    #'spam'+ 'spamspam'\n",
    "    # 'spam'*3\n",
    "'spam'+'spamspam'"
   ]
  },
  {
   "cell_type": "code",
   "execution_count": 18,
   "id": "a3491f3a",
   "metadata": {},
   "outputs": [
    {
     "data": {
      "text/plain": [
       "'spamspamspam'"
      ]
     },
     "execution_count": 18,
     "metadata": {},
     "output_type": "execute_result"
    }
   ],
   "source": [
    "'spam'*3"
   ]
  },
  {
   "cell_type": "code",
   "execution_count": null,
   "id": "c87c0b70",
   "metadata": {},
   "outputs": [],
   "source": [
    "#Q8 Why is eggs a valid variable name while 100 is invalid?\n",
    "Ans Variable name cannot start with an integer."
   ]
  },
  {
   "cell_type": "code",
   "execution_count": null,
   "id": "7ee35307",
   "metadata": {},
   "outputs": [],
   "source": [
    "#Q9 What three functions can be used to get the integer, floating-point number, or string version of a value?\n",
    "Ans- The int() , float() , and str( ) functions will evaluate to the integer, floating-point number,\n",
    "      and string versions of the value passed to them."
   ]
  },
  {
   "cell_type": "code",
   "execution_count": 27,
   "id": "e484c8e5",
   "metadata": {},
   "outputs": [],
   "source": [
    "#Q10 Why does this expression cause an error? How can you fix it?\n",
    "  #\"I have eaten\"+ 99 + \"burritos\"\n",
    "Ans This expression causes an error because we cannot concatenate a string with an integer,\n",
    "    so to fix this we need to convert 99 into a String"
   ]
  },
  {
   "cell_type": "code",
   "execution_count": 28,
   "id": "1c663c43",
   "metadata": {},
   "outputs": [
    {
     "ename": "TypeError",
     "evalue": "can only concatenate str (not \"int\") to str",
     "output_type": "error",
     "traceback": [
      "\u001b[1;31m---------------------------------------------------------------------------\u001b[0m",
      "\u001b[1;31mTypeError\u001b[0m                                 Traceback (most recent call last)",
      "\u001b[1;32m~\\AppData\\Local\\Temp/ipykernel_14464/1227972343.py\u001b[0m in \u001b[0;36m<module>\u001b[1;34m\u001b[0m\n\u001b[1;32m----> 1\u001b[1;33m \u001b[1;34m\"I have eaten\"\u001b[0m\u001b[1;33m+\u001b[0m \u001b[1;36m99\u001b[0m \u001b[1;33m+\u001b[0m \u001b[1;34m\"burritos\"\u001b[0m\u001b[1;33m\u001b[0m\u001b[1;33m\u001b[0m\u001b[0m\n\u001b[0m",
      "\u001b[1;31mTypeError\u001b[0m: can only concatenate str (not \"int\") to str"
     ]
    }
   ],
   "source": [
    "\"I have eaten\"+ 99 + \"burritos\""
   ]
  },
  {
   "cell_type": "code",
   "execution_count": 29,
   "id": "4c675a0f",
   "metadata": {},
   "outputs": [
    {
     "data": {
      "text/plain": [
       "'I have eaten99burritos'"
      ]
     },
     "execution_count": 29,
     "metadata": {},
     "output_type": "execute_result"
    }
   ],
   "source": [
    "\"I have eaten\"+ \"99\" + \"burritos\""
   ]
  },
  {
   "cell_type": "code",
   "execution_count": null,
   "id": "4e7fd87b",
   "metadata": {},
   "outputs": [],
   "source": []
  }
 ],
 "metadata": {
  "kernelspec": {
   "display_name": "Python 3 (ipykernel)",
   "language": "python",
   "name": "python3"
  },
  "language_info": {
   "codemirror_mode": {
    "name": "ipython",
    "version": 3
   },
   "file_extension": ".py",
   "mimetype": "text/x-python",
   "name": "python",
   "nbconvert_exporter": "python",
   "pygments_lexer": "ipython3",
   "version": "3.9.7"
  }
 },
 "nbformat": 4,
 "nbformat_minor": 5
}
